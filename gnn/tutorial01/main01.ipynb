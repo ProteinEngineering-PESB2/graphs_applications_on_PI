{
 "cells": [
  {
   "cell_type": "code",
   "execution_count": 9,
   "metadata": {},
   "outputs": [],
   "source": [
    "from torch_geometric.datasets import TUDataset\n",
    "from torch_geometric.loader import DataLoader"
   ]
  },
  {
   "cell_type": "code",
   "execution_count": 11,
   "metadata": {},
   "outputs": [],
   "source": [
    "dataset = TUDataset(root=\"/tmp/ENZYMES\", name=\"ENZYMES\", use_node_attr=True)"
   ]
  },
  {
   "cell_type": "code",
   "execution_count": 12,
   "metadata": {},
   "outputs": [],
   "source": [
    "loader = DataLoader(dataset=dataset, batch_size=32, shuffle=True)"
   ]
  },
  {
   "cell_type": "code",
   "execution_count": 13,
   "metadata": {},
   "outputs": [
    {
     "name": "stdout",
     "output_type": "stream",
     "text": [
      "DataBatch(edge_index=[2, 3862], x=[1028, 21], y=[32], batch=[1028], ptr=[33])\n",
      "DataBatch(edge_index=[2, 3576], x=[956, 21], y=[32], batch=[956], ptr=[33])\n",
      "DataBatch(edge_index=[2, 3632], x=[929, 21], y=[32], batch=[929], ptr=[33])\n",
      "DataBatch(edge_index=[2, 4186], x=[1123, 21], y=[32], batch=[1123], ptr=[33])\n",
      "DataBatch(edge_index=[2, 3614], x=[936, 21], y=[32], batch=[936], ptr=[33])\n",
      "DataBatch(edge_index=[2, 4608], x=[1157, 21], y=[32], batch=[1157], ptr=[33])\n",
      "DataBatch(edge_index=[2, 3850], x=[949, 21], y=[32], batch=[949], ptr=[33])\n",
      "DataBatch(edge_index=[2, 4304], x=[1128, 21], y=[32], batch=[1128], ptr=[33])\n",
      "DataBatch(edge_index=[2, 3942], x=[997, 21], y=[32], batch=[997], ptr=[33])\n",
      "DataBatch(edge_index=[2, 3986], x=[1037, 21], y=[32], batch=[1037], ptr=[33])\n",
      "DataBatch(edge_index=[2, 4376], x=[1129, 21], y=[32], batch=[1129], ptr=[33])\n",
      "DataBatch(edge_index=[2, 3742], x=[967, 21], y=[32], batch=[967], ptr=[33])\n",
      "DataBatch(edge_index=[2, 3656], x=[1057, 21], y=[32], batch=[1057], ptr=[33])\n",
      "DataBatch(edge_index=[2, 4566], x=[1231, 21], y=[32], batch=[1231], ptr=[33])\n",
      "DataBatch(edge_index=[2, 3988], x=[1066, 21], y=[32], batch=[1066], ptr=[33])\n",
      "DataBatch(edge_index=[2, 4218], x=[1079, 21], y=[32], batch=[1079], ptr=[33])\n",
      "DataBatch(edge_index=[2, 3470], x=[948, 21], y=[32], batch=[948], ptr=[33])\n",
      "DataBatch(edge_index=[2, 3546], x=[919, 21], y=[32], batch=[919], ptr=[33])\n",
      "DataBatch(edge_index=[2, 3442], x=[944, 21], y=[24], batch=[944], ptr=[25])\n"
     ]
    }
   ],
   "source": [
    "for batch in loader:\n",
    "    print(batch)"
   ]
  },
  {
   "cell_type": "code",
   "execution_count": null,
   "metadata": {},
   "outputs": [],
   "source": []
  }
 ],
 "metadata": {
  "interpreter": {
   "hash": "86a40d95badc63ac51b350c7e8ad8f0dcff231746bb3114e7fc8378122714387"
  },
  "kernelspec": {
   "display_name": "Python 3.9.7 ('base')",
   "language": "python",
   "name": "python3"
  },
  "language_info": {
   "codemirror_mode": {
    "name": "ipython",
    "version": 3
   },
   "file_extension": ".py",
   "mimetype": "text/x-python",
   "name": "python",
   "nbconvert_exporter": "python",
   "pygments_lexer": "ipython3",
   "version": "3.9.7"
  },
  "orig_nbformat": 4
 },
 "nbformat": 4,
 "nbformat_minor": 2
}
